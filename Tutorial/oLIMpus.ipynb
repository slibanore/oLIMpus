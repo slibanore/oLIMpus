{
 "cells": [
  {
   "cell_type": "markdown",
   "metadata": {},
   "source": [
    "# <center>Welcome to oLIMpus Tutorial #1!</center>\n",
    "### <center>By S. Libanore</center>\n",
    "oLIMpus is a fully analytical effective model to study LIM auto- and cross- power spectra durning the EoR. \n",
    "\n",
    "Our work builds on the 21-cm effective model presented in Zeus21 (Munoz 2023), which is contained as a submodule of our package.\n",
    "\n",
    "#### In this notebook you will learn how to...\n",
    "- install oLIMpus\n",
    "- choose and set up the inputs for running the code\n",
    "- produce analytical auto- and cross- star-forming lines power spectra, including shot noise and power spectra"
   ]
  },
  {
   "cell_type": "markdown",
   "metadata": {},
   "source": []
  },
  {
   "cell_type": "markdown",
   "metadata": {},
   "source": [
    "For further information, the user can refer to the documentation of each module, or contact the author at:\n",
    "\n",
    "libanore@bgu.ac.il"
   ]
  },
  {
   "cell_type": "markdown",
   "metadata": {},
   "source": []
  }
 ],
 "metadata": {
  "language_info": {
   "name": "python"
  }
 },
 "nbformat": 4,
 "nbformat_minor": 2
}
